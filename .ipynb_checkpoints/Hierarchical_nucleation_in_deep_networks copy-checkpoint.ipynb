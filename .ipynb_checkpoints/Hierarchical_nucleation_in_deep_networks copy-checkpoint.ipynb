{
 "cells": [
  {
   "cell_type": "markdown",
   "metadata": {
    "hideCode": true,
    "hidePrompt": true
   },
   "source": [
    "# Hierarchical nucleation of deep networks"
   ]
  },
  {
   "cell_type": "code",
   "execution_count": 1,
   "metadata": {
    "hideCode": true,
    "hidePrompt": true,
    "scrolled": false
   },
   "outputs": [
    {
     "name": "stdout",
     "output_type": "stream",
     "text": [
      "running build_ext\r\n"
     ]
    }
   ],
   "source": [
    "# Compile the cython extension locally\n",
    "\n",
    "!python setup_cython.py build_ext --inplace ;\n"
   ]
  },
  {
   "cell_type": "code",
   "execution_count": 1,
   "metadata": {
    "hideCode": true,
    "hidePrompt": true
   },
   "outputs": [],
   "source": [
    "# Import libraries and source code to run the analysis\n",
    "\n",
    "import numpy as np\n",
    "import matplotlib.pyplot as plt\n",
    "import matplotlib.cm as cm\n",
    "from sklearn.metrics.cluster import adjusted_rand_score\n",
    "from utils import Data_sets, kernel_PCA\n",
    "%load_ext autoreload\n",
    "%autoreload 2\n"
   ]
  },
  {
   "cell_type": "code",
   "execution_count": 7,
   "metadata": {
    "hideCode": true,
    "hidePrompt": true
   },
   "outputs": [
    {
     "name": "stdout",
     "output_type": "stream",
     "text": [
      "  % Total    % Received % Xferd  Average Speed   Time    Time     Time  Current\n",
      "                                 Dload  Upload   Total   Spent    Left  Speed\n",
      "100  148M  100  148M    0     0  1698k      0  0:01:29  0:01:29 --:--:-- 1599k:51 1331k  0:01:04 1723k  0:00:44  0:00:45 1725k01:29  0:01:08  0:00:21 1712k1663kk      0  0:01:29  0:01:23  0:00:06 1722k\n"
     ]
    }
   ],
   "source": [
    "# Download and unzip the data from figshare\n",
    "\n",
    "!curl -o dist_imagenet90k_r152.tar.gz https://ndownloader.figshare.com/files/22903688?private_link=6c875e9f4a31bfd79794\n",
    "    \n",
    "!tar -xzf dist_imagenet90k_r152.tar.gz\n",
    "    \n",
    "# If the above does not work, please download the data manually at the link https://figshare.com/s/6c875e9f4a31bfd79794\n"
   ]
  },
  {
   "cell_type": "code",
   "execution_count": 2,
   "metadata": {
    "hideCode": true,
    "hidePrompt": true
   },
   "outputs": [],
   "source": [
    "# Ids of the 90000 images used, class label assignements and macro label assignments\n",
    "\n",
    "sampled_images_id = np.loadtxt('sampled_images_id.txt', dtype='str')\n",
    "macro_labels = np.genfromtxt('macro_labels.txt')\n",
    "class_labels = np.repeat(np.arange(300), 300)\n"
   ]
  },
  {
   "cell_type": "code",
   "execution_count": 12,
   "metadata": {
    "hideCode": true,
    "hidePrompt": true
   },
   "outputs": [],
   "source": [
    "data_folder = 'maxk_30'\n",
    "\n",
    "checkpoints = [0, 1, 10, 34, 97, 142, 145, 148, 151, 152, 153]\n",
    "#checkpoints = [0, 10, 34, 142, 151,153]\n",
    "\n",
    "ds = Data_sets()\n",
    "\n",
    "for cp in checkpoints:\n",
    "    distances = np.load(data_folder + '/layer_{}.npz'.format(cp))\n",
    "    ds.add_one_dataset(distances=(distances['dist'], distances['index']), labels = class_labels, maxk = 30)"
   ]
  },
  {
   "cell_type": "code",
   "execution_count": 13,
   "metadata": {
    "hideCode": true,
    "hidePrompt": true
   },
   "outputs": [
    {
     "name": "stdout",
     "output_type": "stream",
     "text": [
      "computing overlap for dataset  0\n",
      "computing overlap for dataset  1\n",
      "computing overlap for dataset  2\n",
      "computing overlap for dataset  3\n",
      "computing overlap for dataset  4\n",
      "computing overlap for dataset  5\n",
      "computing overlap for dataset  6\n",
      "computing overlap for dataset  7\n",
      "computing overlap for dataset  8\n",
      "computing overlap for dataset  9\n",
      "computing overlap for dataset  10\n"
     ]
    }
   ],
   "source": [
    "\n",
    "overlap_gt = ds.return_label_overlap_mean()\n"
   ]
  },
  {
   "cell_type": "code",
   "execution_count": 14,
   "metadata": {},
   "outputs": [],
   "source": [
    "\n",
    "overlap_output = [ds.return_overlap_mean_btw_layers(i, -1, k=30) for i in range(len(checkpoints))]\n"
   ]
  },
  {
   "cell_type": "code",
   "execution_count": 15,
   "metadata": {
    "hideCode": true,
    "hidePrompt": true,
    "scrolled": true
   },
   "outputs": [
    {
     "data": {
      "text/plain": [
       "Text(0, 0.5, '$\\\\chi^{gt}$')"
      ]
     },
     "execution_count": 15,
     "metadata": {},
     "output_type": "execute_result"
    },
    {
     "data": {
      "image/png": "[encoded data removed]",
      "text/plain": [
       "<Figure size 432x288 with 1 Axes>"
      ]
     },
     "metadata": {
      "needs_background": "light"
     },
     "output_type": "display_data"
    }
   ],
   "source": [
    "# TODO (4 Diego): improve graph\n",
    "plt.plot(checkpoints, overlap_gt, '-o')\n",
    "plt.plot(checkpoints, overlap_output, '-o')\n",
    "plt.xlabel('layer')\n",
    "plt.ylabel(r'$\\chi^{gt}$')"
   ]
  },
  {
   "cell_type": "code",
   "execution_count": 16,
   "metadata": {
    "hideCode": true,
    "hidePrompt": true
   },
   "outputs": [
    {
     "name": "stdout",
     "output_type": "stream",
     "text": [
      "computing id of layer  0\n",
      "computing id of layer  1\n"
     ]
    },
    {
     "name": "stderr",
     "output_type": "stream",
     "text": [
      "/Users/aldoglielmo/SISSA_Code/scripts_NN/hierarchical_nucleation/utils.py:79: RuntimeWarning: divide by zero encountered in true_divide\n",
      "  mus = np.log(self.distances[:, 2] / self.distances[:, 1])\n"
     ]
    },
    {
     "name": "stdout",
     "output_type": "stream",
     "text": [
      "computing id of layer  2\n",
      "computing id of layer  3\n",
      "computing id of layer  4\n",
      "computing id of layer  5\n",
      "computing id of layer  6\n",
      "computing id of layer  7\n",
      "computing id of layer  8\n",
      "computing id of layer  9\n",
      "computing id of layer  10\n"
     ]
    }
   ],
   "source": [
    "### Compute intrisic dimension across all layers ###\n",
    "ds.compute_id(fraction = 0.99, decimation = 1)"
   ]
  },
  {
   "cell_type": "code",
   "execution_count": 17,
   "metadata": {
    "hideCode": true,
    "hidePrompt": true,
    "scrolled": true
   },
   "outputs": [
    {
     "data": {
      "text/plain": [
       "Text(0, 0.5, 'ID')"
      ]
     },
     "execution_count": 17,
     "metadata": {},
     "output_type": "execute_result"
    },
    {
     "data": {
      "image/png": "[encoded data removed]",
      "text/plain": [
       "<Figure size 432x288 with 1 Axes>"
      ]
     },
     "metadata": {
      "needs_background": "light"
     },
     "output_type": "display_data"
    }
   ],
   "source": [
    "plt.plot(checkpoints, ds.ids, '-o')\n",
    "plt.xlabel('layer')\n",
    "plt.ylabel('ID')"
   ]
  },
  {
   "cell_type": "code",
   "execution_count": 18,
   "metadata": {
    "hideCode": true,
    "hidePrompt": true
   },
   "outputs": [
    {
     "name": "stdout",
     "output_type": "stream",
     "text": [
      "computing kNN density for dataset  0\n",
      "computing kNN density for dataset  1\n",
      "computing kNN density for dataset  2\n",
      "computing kNN density for dataset  3\n",
      "computing kNN density for dataset  4\n",
      "computing kNN density for dataset  5\n",
      "computing kNN density for dataset  6\n",
      "computing kNN density for dataset  7\n",
      "computing kNN density for dataset  8\n",
      "computing kNN density for dataset  9\n",
      "computing kNN density for dataset  10\n"
     ]
    }
   ],
   "source": [
    "### Compute density of each point across all layers ###\n",
    "ds.compute_density_kNN(k= 30)"
   ]
  },
  {
   "cell_type": "code",
   "execution_count": 19,
   "metadata": {
    "hideCode": true,
    "hidePrompt": true
   },
   "outputs": [
    {
     "name": "stdout",
     "output_type": "stream",
     "text": [
      "Z = 1.65, halo = False\n",
      "computing clustering for dataset  0\n",
      "computing clustering for dataset  1\n",
      "computing clustering for dataset  2\n",
      "computing clustering for dataset  3\n",
      "computing clustering for dataset  4\n",
      "computing clustering for dataset  5\n",
      "computing clustering for dataset  6\n",
      "computing clustering for dataset  7\n",
      "computing clustering for dataset  8\n",
      "computing clustering for dataset  9\n",
      "computing clustering for dataset  10\n",
      "Z = 1.65, halo = False\n"
     ]
    }
   ],
   "source": [
    "### Find density peaks and saddle points between them for all layers ###\n",
    "ds.compute_clustering(Z = 1.65, halo = False)"
   ]
  },
  {
   "cell_type": "code",
   "execution_count": 20,
   "metadata": {
    "code_folding": [],
    "hideCode": true,
    "hidePrompt": true
   },
   "outputs": [
    {
     "name": "stdout",
     "output_type": "stream",
     "text": [
      "[[-295.81 -217.06 -294.81 -217.31]\n",
      " [-217.06 -295.81 -294.81 -255.76]\n",
      " [-294.81 -294.81 -295.81 -217.76]\n",
      " [-217.31 -255.76 -217.76 -295.81]]\n",
      "[-214.15699259910713, -209.68448416862617, -216.7376209941877, -207.4990202632917]\n"
     ]
    }
   ],
   "source": [
    "# TODO: to be finished\n",
    "### Save density peaks and saddle points for of the layers considered\n",
    "\n",
    "print(ds.data_sets[0].out_bord)\n",
    "\n",
    "print([ds.data_sets[0].Rho[i] for i in ds.data_sets[0].centers_m])\n"
   ]
  },
  {
   "cell_type": "code",
   "execution_count": 21,
   "metadata": {
    "hideCode": true,
    "hidePrompt": true
   },
   "outputs": [],
   "source": [
    "folder = 'peaks_and_saddle_points/'"
   ]
  },
  {
   "cell_type": "code",
   "execution_count": 22,
   "metadata": {
    "hideCode": true,
    "hidePrompt": true
   },
   "outputs": [],
   "source": [
    "for layer, cp in zip(ds.data_sets, checkpoints):\n",
    "    \n",
    "    peaks = [layer.Rho[j] for j in layer.centers_m]\n",
    "    saddle_points_matrix = layer.out_bord\n",
    "    \n",
    "    np.savetxt(folder+'layer_{}_peaks.txt'.format(cp), peaks)"
   ]
  },
  {
   "cell_type": "code",
   "execution_count": 23,
   "metadata": {
    "hideCode": true,
    "hidePrompt": true
   },
   "outputs": [],
   "source": [
    "### QUESTION: What's on the diagonal of the out_bord matrix? if not the density of the peaks?"
   ]
  },
  {
   "cell_type": "code",
   "execution_count": 24,
   "metadata": {
    "hideCode": true,
    "hidePrompt": true
   },
   "outputs": [],
   "source": [
    "\n",
    "ARIs_classes = []\n",
    "ARIs_macro = []\n",
    "\n",
    "for layer in ds.data_sets:\n",
    "    ARI = adjusted_rand_score(layer.labels, class_labels)\n",
    "    ARIs_classes.append(ARI)\n",
    "    \n",
    "    ARI = adjusted_rand_score(layer.labels, macro_labels)\n",
    "    ARIs_macro.append(ARI)  "
   ]
  },
  {
   "cell_type": "code",
   "execution_count": 25,
   "metadata": {
    "hideCode": true,
    "hidePrompt": true
   },
   "outputs": [
    {
     "data": {
      "text/plain": [
       "Text(0, 0.5, 'ARI')"
      ]
     },
     "execution_count": 25,
     "metadata": {},
     "output_type": "execute_result"
    },
    {
     "data": {
      "image/png": "[encoded data removed]",
      "text/plain": [
       "<Figure size 432x288 with 1 Axes>"
      ]
     },
     "metadata": {
      "needs_background": "light"
     },
     "output_type": "display_data"
    }
   ],
   "source": [
    "\n",
    "plt.plot(checkpoints, ARIs_classes, '-o')\n",
    "plt.plot(checkpoints, ARIs_macro, '-o')\n",
    "\n",
    "plt.xlabel('checkpoints')\n",
    "plt.ylabel('ARI')"
   ]
  },
  {
   "cell_type": "code",
   "execution_count": 26,
   "metadata": {
    "hideCode": true,
    "hidePrompt": true
   },
   "outputs": [],
   "source": [
    "# select layer\n",
    "layer = ds.data_sets[-1]\n",
    "\n",
    "# compute 2D embedding\n",
    "embedding = kernel_PCA(layer)\n",
    "\n",
    "# Size of density peaks\n",
    "s = []\n",
    "for i in range(layer.Nclus_m):\n",
    "    s.append(3. * np.sqrt(len(layer.clstruct_m[i])))\n",
    "\n",
    "# Color of density peaks\n",
    "col = []\n",
    "for i in range(layer.Nclus_m):\n",
    "    idx = layer.clstruct_m[i]\n",
    "    ancs = macro_labels[idx]\n",
    "    n_animals = sum(ancs == 13)\n",
    "    n_artifacts = sum(ancs == 2)\n",
    "\n",
    "    an_frac = n_animals/(n_animals + n_artifacts) \n",
    "    \n",
    "    # subtract baseline ratio between the two (unbalanced) macro classes\n",
    "    an_frac = an_frac - (38400/(47100 + 38400)) + 0.5 \n",
    "    \n",
    "    col.append(cm.coolwarm(an_frac))\n",
    "    "
   ]
  },
  {
   "cell_type": "code",
   "execution_count": 27,
   "metadata": {
    "hideCode": true,
    "hidePrompt": true
   },
   "outputs": [
    {
     "data": {
      "text/plain": [
       "<matplotlib.collections.PathCollection at 0x12811ada0>"
      ]
     },
     "execution_count": 27,
     "metadata": {},
     "output_type": "execute_result"
    },
    {
     "data": {
      "image/png": "[encoded data removed]",
      "text/plain": [
       "<Figure size 432x288 with 1 Axes>"
      ]
     },
     "metadata": {
      "needs_background": "light"
     },
     "output_type": "display_data"
    }
   ],
   "source": [
    "plt.scatter(embedding[:, 0], embedding[:, 1], s = s, c = col, edgecolor = 'k')"
   ]
  },
  {
   "cell_type": "code",
   "execution_count": null,
   "metadata": {},
   "outputs": [],
   "source": []
  },
  {
   "cell_type": "code",
   "execution_count": null,
   "metadata": {},
   "outputs": [],
   "source": []
  }
 ],
 "metadata": {
  "hide_code_all_hidden": true,
  "kernelspec": {
   "display_name": "Python 3",
   "language": "python",
   "name": "python3"
  },
  "language_info": {
   "codemirror_mode": {
    "name": "ipython",
    "version": 3
   },
   "file_extension": ".py",
   "mimetype": "text/x-python",
   "name": "python",
   "nbconvert_exporter": "python",
   "pygments_lexer": "ipython3",
   "version": "3.7.3"
  }
 },
 "nbformat": 4,
 "nbformat_minor": 2
}
