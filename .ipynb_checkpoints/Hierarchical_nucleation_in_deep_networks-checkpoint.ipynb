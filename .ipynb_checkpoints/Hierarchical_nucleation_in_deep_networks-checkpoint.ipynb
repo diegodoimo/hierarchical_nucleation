{
 "cells": [
  {
   "cell_type": "markdown",
   "metadata": {},
   "source": [
    "# Hierarchical nucleation of deep networks"
   ]
  },
  {
   "cell_type": "code",
   "execution_count": 1,
   "metadata": {
    "scrolled": false
   },
   "outputs": [
    {
     "name": "stdout",
     "output_type": "stream",
     "text": [
      "Compiling cython_clustering.pyx because it changed.\n",
      "[1/1] Cythonizing cython_clustering.pyx\n",
      "/usr/local/miniconda3/envs/pynn/lib/python3.7/site-packages/Cython/Compiler/Main.py:369: FutureWarning: Cython directive 'language_level' not set, using 2 for now (Py2). This will change in a later release! File: /Users/aldoglielmo/SISSA_Code/scripts_NN/hierarchical_nucleation/cython_clustering.pyx\n",
      "  tree = Parsing.p_module(s, pxd, full_module_name)\n",
      "running build_ext\n",
      "building 'cython_clustering' extension\n",
      "creating build\n",
      "creating build/temp.macosx-10.9-x86_64-3.7\n",
      "x86_64-apple-darwin13.4.0-clang -DNDEBUG -fwrapv -O3 -Wall -Wstrict-prototypes -march=core2 -mtune=haswell -mssse3 -ftree-vectorize -fPIC -fPIE -fstack-protector-strong -O2 -pipe -I/usr/local/miniconda3/envs/pynn/include -I/usr/local/opt/openssl/include -I/usr/local/miniconda3/envs/pynn/lib/python3.7/site-packages/numpy/core/include -I/usr/local/miniconda3/envs/pynn/include/python3.7m -c cython_clustering.c -o build/temp.macosx-10.9-x86_64-3.7/cython_clustering.o\n",
      "In file included from cython_clustering.c:611:\n",
      "In file included from /usr/local/miniconda3/envs/pynn/lib/python3.7/site-packages/numpy/core/include/numpy/arrayobject.h:4:\n",
      "In file included from /usr/local/miniconda3/envs/pynn/lib/python3.7/site-packages/numpy/core/include/numpy/ndarrayobject.h:12:\n",
      "In file included from /usr/local/miniconda3/envs/pynn/lib/python3.7/site-packages/numpy/core/include/numpy/ndarraytypes.h:1830:\n",
      "\u001b[1m/usr/local/miniconda3/envs/pynn/lib/python3.7/site-packages/numpy/core/include/numpy/npy_1_7_deprecated_api.h:17:2: \u001b[0m\u001b[0;1;35mwarning: \u001b[0m\u001b[1m\n",
      "      \"Using deprecated NumPy API, disable it with \"          \"#define\n",
      "      NPY_NO_DEPRECATED_API NPY_1_7_API_VERSION\" [-W#warnings]\u001b[0m\n",
      "#warning \"Using deprecated NumPy API, disable it with \" \\\n",
      "\u001b[0;1;32m ^\n",
      "\u001b[0m1 warning generated.\n",
      "x86_64-apple-darwin13.4.0-clang -bundle -undefined dynamic_lookup -Wl,-pie -Wl,-headerpad_max_install_names -Wl,-dead_strip_dylibs -Wl,-rpath,/usr/local/miniconda3/envs/pynn/lib -L/usr/local/miniconda3/envs/pynn/lib -flto -Wl,-export_dynamic -Wl,-pie -Wl,-headerpad_max_install_names -Wl,-dead_strip_dylibs -Wl,-rpath,/usr/local/miniconda3/envs/pynn/lib -L/usr/local/miniconda3/envs/pynn/lib -L/usr/local/opt/openssl/lib -march=core2 -mtune=haswell -mssse3 -ftree-vectorize -fPIC -fPIE -fstack-protector-strong -O2 -pipe -I/usr/local/miniconda3/envs/pynn/include -I/usr/local/opt/openssl/include -arch x86_64 build/temp.macosx-10.9-x86_64-3.7/cython_clustering.o -o /Users/aldoglielmo/SISSA_Code/scripts_NN/hierarchical_nucleation/cython_clustering.cpython-37m-darwin.so\n",
      "ld: warning: -pie being ignored. It is only used when linking a main executable\n"
     ]
    }
   ],
   "source": [
    "# Compile the cython extension locally\n",
    "\n",
    "!python setup_cython.py build_ext --inplace ;\n"
   ]
  },
  {
   "cell_type": "code",
   "execution_count": 97,
   "metadata": {},
   "outputs": [
    {
     "name": "stdout",
     "output_type": "stream",
     "text": [
      "The autoreload extension is already loaded. To reload it, use:\n",
      "  %reload_ext autoreload\n"
     ]
    }
   ],
   "source": [
    "# Import libraries and source code to run the analysis\n",
    "\n",
    "import numpy as np\n",
    "import matplotlib.pyplot as plt\n",
    "from sklearn.metrics.cluster import adjusted_rand_score\n",
    "from utils import Data_sets, double_centering\n",
    "%load_ext autoreload\n",
    "%autoreload 2\n"
   ]
  },
  {
   "cell_type": "code",
   "execution_count": 3,
   "metadata": {},
   "outputs": [
    {
     "name": "stdout",
     "output_type": "stream",
     "text": [
      "  % Total    % Received % Xferd  Average Speed   Time    Time     Time  Current\n",
      "                                 Dload  Upload   Total   Spent    Left  Speed\n",
      "100  148M  100  148M    0     0  1699k      0  0:01:29  0:01:29 --:--:-- 1724k01:30  0:00:44  0:00:46 1721k 0:01:30  0:00:51  0:00:39 1724k\n"
     ]
    }
   ],
   "source": [
    "# Download and unzip the data from figshare\n",
    "\n",
    "!curl -o dist_imagenet90k_r152.tar.gz https://ndownloader.figshare.com/files/22903688?private_link=6c875e9f4a31bfd79794\n",
    "    \n",
    "!tar -xzf dist_imagenet90k_r152.tar.gz\n",
    "    \n",
    "# If the above does not work, please download the data manually at the link https://figshare.com/s/6c875e9f4a31bfd79794\n"
   ]
  },
  {
   "cell_type": "code",
   "execution_count": 55,
   "metadata": {},
   "outputs": [],
   "source": [
    "# Ids of the 90000 images used, class label assignements and macro label assignments\n",
    "\n",
    "sampled_images_id = np.loadtxt('sampled_images_id.txt', dtype='str')\n",
    "macro_labels = np.genfromtxt('macro_labels.txt')\n",
    "class_labels = np.repeat(np.arange(300), 300)"
   ]
  },
  {
   "cell_type": "code",
   "execution_count": 56,
   "metadata": {},
   "outputs": [],
   "source": [
    "data_folder = 'maxk_30'\n",
    "\n",
    "checkpoints = [0, 1, 10, 34, 97, 142, 145, 148, 151, 152, 153]\n",
    "#checkpoints = [0, 1, 10, 34, 142, 151, 152, 153]\n",
    "\n",
    "ds = Data_sets()\n",
    "\n",
    "for cp in checkpoints:\n",
    "    distances = np.load(data_folder + '/layer_{}.npz'.format(cp))\n",
    "    ds.add_one_dataset(distances=(distances['dist'], distances['index']), labels = class_labels, maxk = 30)"
   ]
  },
  {
   "cell_type": "code",
   "execution_count": 57,
   "metadata": {},
   "outputs": [
    {
     "name": "stdout",
     "output_type": "stream",
     "text": [
      "computing overlap for dataset  0\n",
      "computing overlap for dataset  1\n",
      "computing overlap for dataset  2\n",
      "computing overlap for dataset  3\n",
      "computing overlap for dataset  4\n",
      "computing overlap for dataset  5\n",
      "computing overlap for dataset  6\n",
      "computing overlap for dataset  7\n",
      "computing overlap for dataset  8\n",
      "computing overlap for dataset  9\n",
      "computing overlap for dataset  10\n"
     ]
    }
   ],
   "source": [
    "\n",
    "overlap_gt = ds.return_label_overlap_mean()\n"
   ]
  },
  {
   "cell_type": "code",
   "execution_count": 63,
   "metadata": {
    "scrolled": true
   },
   "outputs": [
    {
     "data": {
      "text/plain": [
       "Text(0, 0.5, '$\\\\chi^{gt}$')"
      ]
     },
     "execution_count": 63,
     "metadata": {},
     "output_type": "execute_result"
    },
    {
     "data": {
      "image/png": "[encoded data removed]",
      "text/plain": [
       "<Figure size 432x288 with 1 Axes>"
      ]
     },
     "metadata": {
      "needs_background": "light"
     },
     "output_type": "display_data"
    }
   ],
   "source": [
    "# TODO (4 Diego): improve graph\n",
    "plt.plot(checkpoints, overlap_gt, '-o')\n",
    "plt.xlabel('layer')\n",
    "plt.ylabel(r'$\\chi^{gt}$')"
   ]
  },
  {
   "cell_type": "code",
   "execution_count": 67,
   "metadata": {},
   "outputs": [
    {
     "name": "stdout",
     "output_type": "stream",
     "text": [
      "computing id of layer  0\n",
      "computing id of layer  1\n",
      "computing id of layer  2\n",
      "computing id of layer  3\n",
      "computing id of layer  4\n",
      "computing id of layer  5\n",
      "computing id of layer  6\n",
      "computing id of layer  7\n",
      "computing id of layer  8\n",
      "computing id of layer  9\n",
      "computing id of layer  10\n"
     ]
    }
   ],
   "source": [
    "### Compute intrisic dimension across all layers ###\n",
    "ds.compute_id(fraction = 0.99, decimation = 1)"
   ]
  },
  {
   "cell_type": "code",
   "execution_count": 70,
   "metadata": {},
   "outputs": [
    {
     "data": {
      "text/plain": [
       "Text(0, 0.5, 'ID')"
      ]
     },
     "execution_count": 70,
     "metadata": {},
     "output_type": "execute_result"
    },
    {
     "data": {
      "image/png": "[encoded data removed]",
      "text/plain": [
       "<Figure size 432x288 with 1 Axes>"
      ]
     },
     "metadata": {
      "needs_background": "light"
     },
     "output_type": "display_data"
    }
   ],
   "source": [
    "plt.plot(checkpoints, ds.ids, '-o')\n",
    "plt.xlabel('layer')\n",
    "plt.ylabel('ID')"
   ]
  },
  {
   "cell_type": "code",
   "execution_count": 71,
   "metadata": {},
   "outputs": [
    {
     "name": "stdout",
     "output_type": "stream",
     "text": [
      "computing kNN density for dataset  0\n",
      "computing kNN density for dataset  1\n",
      "computing kNN density for dataset  2\n",
      "computing kNN density for dataset  3\n",
      "computing kNN density for dataset  4\n",
      "computing kNN density for dataset  5\n",
      "computing kNN density for dataset  6\n",
      "computing kNN density for dataset  7\n",
      "computing kNN density for dataset  8\n",
      "computing kNN density for dataset  9\n",
      "computing kNN density for dataset  10\n"
     ]
    }
   ],
   "source": [
    "### Compute density of each point across all layers ###\n",
    "ds.compute_density_kNN(k= 30)"
   ]
  },
  {
   "cell_type": "code",
   "execution_count": 72,
   "metadata": {},
   "outputs": [
    {
     "name": "stdout",
     "output_type": "stream",
     "text": [
      "Z = 1.65, halo = False\n",
      "computing clustering for dataset  0\n",
      "computing clustering for dataset  1\n",
      "computing clustering for dataset  2\n",
      "computing clustering for dataset  3\n",
      "computing clustering for dataset  4\n",
      "computing clustering for dataset  5\n",
      "computing clustering for dataset  6\n",
      "computing clustering for dataset  7\n",
      "computing clustering for dataset  8\n",
      "computing clustering for dataset  9\n",
      "computing clustering for dataset  10\n",
      "Z = 1.65, halo = False\n"
     ]
    }
   ],
   "source": [
    "### Find density peaks and saddle points between them for all layers ###\n",
    "ds.compute_clustering(Z = 1.65, halo = False)"
   ]
  },
  {
   "cell_type": "code",
   "execution_count": 85,
   "metadata": {
    "code_folding": []
   },
   "outputs": [
    {
     "name": "stdout",
     "output_type": "stream",
     "text": [
      "[[-295.81 -217.06 -294.81 -217.31]\n",
      " [-217.06 -295.81 -294.81 -255.76]\n",
      " [-294.81 -294.81 -295.81 -217.76]\n",
      " [-217.31 -255.76 -217.76 -295.81]]\n",
      "[-214.15699259910713, -209.68448416862617, -216.7376209941877, -207.4990202632917]\n"
     ]
    }
   ],
   "source": [
    "# TODO: to be finished\n",
    "### Save density peaks and saddle points for of the layers considered\n",
    "\n",
    "print(ds.data_sets[0].out_bord)\n",
    "\n",
    "print([ds.data_sets[0].Rho[i] for i in ds.data_sets[0].centers_m])\n"
   ]
  },
  {
   "cell_type": "code",
   "execution_count": 92,
   "metadata": {},
   "outputs": [],
   "source": [
    "folder = 'peaks_and_saddle_points/'"
   ]
  },
  {
   "cell_type": "code",
   "execution_count": 93,
   "metadata": {},
   "outputs": [],
   "source": [
    "for layer, cp in zip(ds.data_sets, checkpoints):\n",
    "    \n",
    "    peaks = [layer.Rho[j] for j in layer.centers_m]\n",
    "    saddle_points_matrix = layer.out_bord\n",
    "    \n",
    "    np.savetxt(folder+'layer_{}_peaks.txt'.format(cp), peaks)"
   ]
  },
  {
   "cell_type": "code",
   "execution_count": 86,
   "metadata": {},
   "outputs": [],
   "source": [
    "### QUESTION: What's on the diagonal of the out_bord matrix? if not the density of the peaks?"
   ]
  },
  {
   "cell_type": "code",
   "execution_count": 94,
   "metadata": {},
   "outputs": [],
   "source": [
    "\n",
    "ARIs_classes = []\n",
    "ARIs_macro = []\n",
    "\n",
    "for layer in ds.data_sets:\n",
    "    ARI = adjusted_rand_score(layer.labels, class_labels)\n",
    "    ARIs_classes.append(ARI)\n",
    "    \n",
    "    ARI = adjusted_rand_score(layer.labels, macro_labels)\n",
    "    ARIs_macro.append(ARI)  "
   ]
  },
  {
   "cell_type": "code",
   "execution_count": 95,
   "metadata": {},
   "outputs": [
    {
     "data": {
      "text/plain": [
       "Text(0, 0.5, 'ARI')"
      ]
     },
     "execution_count": 95,
     "metadata": {},
     "output_type": "execute_result"
    },
    {
     "data": {
      "image/png": "[encoded data removed]",
      "text/plain": [
       "<Figure size 432x288 with 1 Axes>"
      ]
     },
     "metadata": {
      "needs_background": "light"
     },
     "output_type": "display_data"
    }
   ],
   "source": [
    "\n",
    "plt.plot(checkpoints, ARIs_classes, '-o')\n",
    "plt.plot(checkpoints, ARIs_macro, '-o')\n",
    "\n",
    "plt.xlabel('checkpoints')\n",
    "plt.ylabel('ARI')"
   ]
  },
  {
   "cell_type": "code",
   "execution_count": 133,
   "metadata": {},
   "outputs": [
    {
     "name": "stderr",
     "output_type": "stream",
     "text": [
      "/usr/local/miniconda3/envs/pynn/lib/python3.7/site-packages/ipykernel_launcher.py:12: RuntimeWarning: invalid value encountered in true_divide\n",
      "  if sys.path[0] == '':\n"
     ]
    }
   ],
   "source": [
    "# generate distance matrix as max density minus the border density\n",
    "\n",
    "\n",
    "layer = ds.data_sets[3]\n",
    "\n",
    "def kernel_PCA(layer):\n",
    "\n",
    "    distances = max(layer.Rho) - layer.out_bord \n",
    "    distances[np.diag_indices_from(d_dis)] = 0.\n",
    "    \n",
    "    if distances.shape[0] < 2:\n",
    "        return np.array([[0, 0]])\n",
    "    \n",
    "    else:\n",
    "        # compute average distance to set lengthscae of gaussian kernel\n",
    "        md = np.mean(distances[np.triu_indices_from(distances)])\n",
    "        sig = np.mean(md)\n",
    "\n",
    "        ker = np.exp(- distances**2/(0.5*sig**2))\n",
    "        ker = double_centering(-ker)\n",
    "\n",
    "        e, v = np.linalg.eigh(ker)\n",
    "        s = np.argsort(e)[::-1]\n",
    "        out = v[:, s[:2]]\n",
    "\n"
   ]
  },
  {
   "cell_type": "code",
   "execution_count": 136,
   "metadata": {},
   "outputs": [
    {
     "data": {
      "text/plain": [
       "(1, 1)"
      ]
     },
     "execution_count": 136,
     "metadata": {},
     "output_type": "execute_result"
    }
   ],
   "source": [
    "distances.shape "
   ]
  },
  {
   "cell_type": "code",
   "execution_count": 132,
   "metadata": {},
   "outputs": [
    {
     "name": "stderr",
     "output_type": "stream",
     "text": [
      "/usr/local/miniconda3/envs/pynn/lib/python3.7/site-packages/ipykernel_launcher.py:1: RuntimeWarning: invalid value encountered in true_divide\n",
      "  \"\"\"Entry point for launching an IPython kernel.\n"
     ]
    },
    {
     "data": {
      "text/plain": [
       "array([[nan]])"
      ]
     },
     "execution_count": 132,
     "metadata": {},
     "output_type": "execute_result"
    }
   ],
   "source": [
    " np.exp(- d_dis**2/(0.5*sig**2))"
   ]
  },
  {
   "cell_type": "code",
   "execution_count": 129,
   "metadata": {
    "scrolled": true
   },
   "outputs": [
    {
     "data": {
      "text/plain": [
       "(array([nan]), array([[1.]]))"
      ]
     },
     "execution_count": 129,
     "metadata": {},
     "output_type": "execute_result"
    }
   ],
   "source": [
    "np.linalg.eigh(ker)"
   ]
  },
  {
   "cell_type": "code",
   "execution_count": 130,
   "metadata": {},
   "outputs": [
    {
     "data": {
      "text/plain": [
       "array([[nan]])"
      ]
     },
     "execution_count": 130,
     "metadata": {},
     "output_type": "execute_result"
    }
   ],
   "source": [
    "ker"
   ]
  },
  {
   "cell_type": "code",
   "execution_count": 128,
   "metadata": {},
   "outputs": [
    {
     "data": {
      "text/plain": [
       "array([[1.]])"
      ]
     },
     "execution_count": 128,
     "metadata": {},
     "output_type": "execute_result"
    }
   ],
   "source": [
    "v"
   ]
  },
  {
   "cell_type": "code",
   "execution_count": 119,
   "metadata": {},
   "outputs": [
    {
     "data": {
      "text/plain": [
       "array([[1.]])"
      ]
     },
     "execution_count": 119,
     "metadata": {},
     "output_type": "execute_result"
    }
   ],
   "source": [
    "v"
   ]
  },
  {
   "cell_type": "code",
   "execution_count": 124,
   "metadata": {},
   "outputs": [],
   "source": [
    "out = np.atleast_2d(out)"
   ]
  },
  {
   "cell_type": "code",
   "execution_count": 126,
   "metadata": {},
   "outputs": [
    {
     "data": {
      "text/plain": [
       "array([[[1.]]])"
      ]
     },
     "execution_count": 126,
     "metadata": {},
     "output_type": "execute_result"
    }
   ],
   "source": [
    "out"
   ]
  },
  {
   "cell_type": "code",
   "execution_count": 125,
   "metadata": {},
   "outputs": [
    {
     "ename": "IndexError",
     "evalue": "index 1 is out of bounds for axis 1 with size 1",
     "output_type": "error",
     "traceback": [
      "\u001b[0;31m---------------------------------------------------------------------------\u001b[0m",
      "\u001b[0;31mIndexError\u001b[0m                                Traceback (most recent call last)",
      "\u001b[0;32m<ipython-input-125-4158f11b701c>\u001b[0m in \u001b[0;36m<module>\u001b[0;34m\u001b[0m\n\u001b[0;32m----> 1\u001b[0;31m \u001b[0mplt\u001b[0m\u001b[0;34m.\u001b[0m\u001b[0mscatter\u001b[0m\u001b[0;34m(\u001b[0m\u001b[0mout\u001b[0m\u001b[0;34m[\u001b[0m\u001b[0;34m:\u001b[0m\u001b[0;34m,\u001b[0m \u001b[0;36m0\u001b[0m\u001b[0;34m]\u001b[0m\u001b[0;34m,\u001b[0m \u001b[0mout\u001b[0m\u001b[0;34m[\u001b[0m\u001b[0;34m:\u001b[0m\u001b[0;34m,\u001b[0m \u001b[0;36m1\u001b[0m\u001b[0;34m]\u001b[0m\u001b[0;34m)\u001b[0m\u001b[0;34m\u001b[0m\u001b[0;34m\u001b[0m\u001b[0m\n\u001b[0m",
      "\u001b[0;31mIndexError\u001b[0m: index 1 is out of bounds for axis 1 with size 1"
     ]
    }
   ],
   "source": [
    "plt.scatter(out[:, 0], out[:, 1])"
   ]
  },
  {
   "cell_type": "code",
   "execution_count": null,
   "metadata": {},
   "outputs": [],
   "source": [
    "s = []\n",
    "col = []\n",
    "for i in range(d.Nclus_m):\n",
    "    s.append(3. * np.sqrt(len(d.clstruct_m[i])))\n",
    "    col.append(cm.coolwarm(an_fracs[i]))"
   ]
  }
 ],
 "metadata": {
  "kernelspec": {
   "display_name": "Python 3",
   "language": "python",
   "name": "python3"
  },
  "language_info": {
   "codemirror_mode": {
    "name": "ipython",
    "version": 3
   },
   "file_extension": ".py",
   "mimetype": "text/x-python",
   "name": "python",
   "nbconvert_exporter": "python",
   "pygments_lexer": "ipython3",
   "version": "3.7.3"
  }
 },
 "nbformat": 4,
 "nbformat_minor": 2
}
