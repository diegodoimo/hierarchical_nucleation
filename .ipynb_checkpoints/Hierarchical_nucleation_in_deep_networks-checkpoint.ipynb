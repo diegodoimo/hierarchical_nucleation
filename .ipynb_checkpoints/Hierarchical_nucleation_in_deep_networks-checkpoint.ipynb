{
 "cells": [
  {
   "cell_type": "markdown",
   "metadata": {},
   "source": [
    "# Hierarchical nucleation of deep networks"
   ]
  },
  {
   "cell_type": "code",
   "execution_count": 46,
   "metadata": {
    "scrolled": false
   },
   "outputs": [
    {
     "name": "stdout",
     "output_type": "stream",
     "text": [
      "running build_ext\r\n"
     ]
    }
   ],
   "source": [
    "# Compile the cython extension locally\n",
    "\n",
    "!python setup_cython.py build_ext --inplace ;\n"
   ]
  },
  {
   "cell_type": "code",
   "execution_count": 47,
   "metadata": {},
   "outputs": [],
   "source": [
    "# Import libraries and source code to run the analysis\n",
    "\n",
    "import numpy as np\n",
    "import matplotlib.pyplot as plt\n",
    "from sklearn.metrics.cluster import adjusted_rand_score\n",
    "from data_sets import Data_sets\n",
    "%load_ext autoreload\n",
    "%autoreload 2\n"
   ]
  },
  {
   "cell_type": "code",
   "execution_count": 54,
   "metadata": {},
   "outputs": [
    {
     "name": "stdout",
     "output_type": "stream",
     "text": [
      "  % Total    % Received % Xferd  Average Speed   Time    Time     Time  Current\n",
      "                                 Dload  Upload   Total   Spent    Left  Speed\n",
      "100  148M  100  148M    0     0  1997k      0  0:01:15  0:01:15 --:--:-- 2373k 1677k      0  0:01:30  0:00:41  0:00:49  319k\n"
     ]
    }
   ],
   "source": [
    "# Download and unzip the data from figshare\n",
    "\n",
    "!curl -o dist_imagenet90k_r152.tar.gz https://ndownloader.figshare.com/files/22903688?private_link=6c875e9f4a31bfd79794\n",
    "    \n",
    "!tar -xzf dist_imagenet90k_r152.tar.gz\n",
    "    \n",
    "# If the above does not work, please download the data manually at the link https://figshare.com/s/6c875e9f4a31bfd79794\n"
   ]
  },
  {
   "cell_type": "code",
   "execution_count": null,
   "metadata": {},
   "outputs": [],
   "source": [
    "sampled_images_id = None\n",
    "animal_artifacts = None # TODO: import these files"
   ]
  },
  {
   "cell_type": "code",
   "execution_count": 67,
   "metadata": {},
   "outputs": [],
   "source": [
    "data_folder = 'maxk_30'\n",
    "\n",
    "checkpoints = [0, 1, 10, 34, 97, 142, 145, 148, 151, 152, 153]\n",
    "\n",
    "labels = np.repeat(np.arange(300), 300)\n",
    "\n",
    "ds = Data_sets()\n",
    "\n",
    "for cp in checkpoints:\n",
    "    distances = np.load(data_folder + '/layer_{}.npz'.format(cp))\n",
    "    ds.add_one_dataset(distances=(distances['dist'], distances['index']), labels = labels, maxk = 30)\n",
    "    "
   ]
  },
  {
   "cell_type": "code",
   "execution_count": 81,
   "metadata": {},
   "outputs": [],
   "source": [
    "\n",
    "overlap_gt = ds.return_label_overlap_mean()\n"
   ]
  },
  {
   "cell_type": "code",
   "execution_count": 84,
   "metadata": {},
   "outputs": [],
   "source": [
    "# TODO: improve graph\n",
    "plt.plot(checkpoints, overlap_gt, '-o')\n",
    "plt.xlabel('checkpoints')"
   ]
  },
  {
   "cell_type": "code",
   "execution_count": 69,
   "metadata": {},
   "outputs": [
    {
     "name": "stdout",
     "output_type": "stream",
     "text": [
      "computing id: fraction = 0.99, decimation = 1, repetitions = 1, range = 2\n",
      "computing id of dataset  0\n",
      "id computation finished\n",
      "computing id of dataset  1\n",
      "id computation finished\n",
      "computing id of dataset  2\n",
      "id computation finished\n",
      "computing id of dataset  3\n",
      "id computation finished\n",
      "computing id of dataset  4\n",
      "id computation finished\n",
      "computing id of dataset  5\n",
      "id computation finished\n",
      "computing id of dataset  6\n",
      "id computation finished\n",
      "computing id of dataset  7\n",
      "id computation finished\n",
      "computing id of dataset  8\n",
      "id computation finished\n",
      "computing id of dataset  9\n",
      "id computation finished\n",
      "computing id of dataset  10\n",
      "id computation finished\n"
     ]
    }
   ],
   "source": [
    "### Compute intrisic dimension across all layers ###\n",
    "ds.compute_id(fraction = 0.99, decimation = 1)"
   ]
  },
  {
   "cell_type": "code",
   "execution_count": 70,
   "metadata": {},
   "outputs": [
    {
     "name": "stdout",
     "output_type": "stream",
     "text": [
      "computing kNN density for dataset  0\n",
      "computing kNN density for dataset  1\n",
      "computing kNN density for dataset  2\n",
      "computing kNN density for dataset  3\n",
      "computing kNN density for dataset  4\n",
      "computing kNN density for dataset  5\n",
      "computing kNN density for dataset  6\n",
      "computing kNN density for dataset  7\n",
      "computing kNN density for dataset  8\n",
      "computing kNN density for dataset  9\n",
      "computing kNN density for dataset  10\n"
     ]
    }
   ],
   "source": [
    "### Compute density of each point across all layers ###\n",
    "ds.compute_density_kNN(k= 30)"
   ]
  },
  {
   "cell_type": "code",
   "execution_count": 71,
   "metadata": {},
   "outputs": [
    {
     "name": "stdout",
     "output_type": "stream",
     "text": [
      "Z = 1.65, halo = False\n",
      "computing clustering for dataset  0\n",
      "computing clustering for dataset  1\n",
      "computing clustering for dataset  2\n",
      "computing clustering for dataset  3\n",
      "computing clustering for dataset  4\n",
      "computing clustering for dataset  5\n",
      "computing clustering for dataset  6\n",
      "computing clustering for dataset  7\n",
      "computing clustering for dataset  8\n",
      "computing clustering for dataset  9\n",
      "computing clustering for dataset  10\n",
      "Z = 1.65, halo = False\n"
     ]
    }
   ],
   "source": [
    "### Find density peaks and saddle points between them for all layers ###\n",
    "ds.compute_clustering(Z = 1.65, halo = False)"
   ]
  },
  {
   "cell_type": "code",
   "execution_count": 72,
   "metadata": {
    "code_folding": []
   },
   "outputs": [
    {
     "data": {
      "text/plain": [
       "array([[-295.81, -217.06, -294.81, -217.31],\n",
       "       [-217.06, -295.81, -294.81, -255.76],\n",
       "       [-294.81, -294.81, -295.81, -217.76],\n",
       "       [-217.31, -255.76, -217.76, -295.81]])"
      ]
     },
     "execution_count": 72,
     "metadata": {},
     "output_type": "execute_result"
    }
   ],
   "source": [
    "# TODO: to be finished\n",
    "### Save density peaks and saddle points for of the layers considered\n",
    "\n",
    "ds.data_sets[0].out_bord\n",
    "\n",
    "#np.savetxt()"
   ]
  },
  {
   "cell_type": "code",
   "execution_count": 74,
   "metadata": {},
   "outputs": [],
   "source": [
    "\n"
   ]
  },
  {
   "cell_type": "code",
   "execution_count": 78,
   "metadata": {},
   "outputs": [],
   "source": [
    "\n",
    "ARIs_classes = []\n",
    "#ARIs_macro = []\n",
    "\n",
    "for d in ds.data_sets:\n",
    "    ARI = adjusted_rand_score(d.labels, labels)\n",
    "    ARIs_classes.append(ARI)\n",
    "    \n",
    "    "
   ]
  },
  {
   "cell_type": "code",
   "execution_count": 80,
   "metadata": {},
   "outputs": [
    {
     "data": {
      "text/plain": [
       "Text(0, 0.5, 'ARI')"
      ]
     },
     "execution_count": 80,
     "metadata": {},
     "output_type": "execute_result"
    },
    {
     "data": {
      "image/png": "[encoded data removed]",
      "text/plain": [
       "<Figure size 432x288 with 1 Axes>"
      ]
     },
     "metadata": {
      "needs_background": "light"
     },
     "output_type": "display_data"
    }
   ],
   "source": [
    "\n",
    "plt.plot(checkpoints, ARIs_classes, '-o')\n",
    "plt.xlabel('checkpoints')\n",
    "plt.ylabel('ARI')"
   ]
  },
  {
   "cell_type": "code",
   "execution_count": null,
   "metadata": {},
   "outputs": [],
   "source": []
  }
 ],
 "metadata": {
  "kernelspec": {
   "display_name": "Python 3",
   "language": "python",
   "name": "python3"
  },
  "language_info": {
   "codemirror_mode": {
    "name": "ipython",
    "version": 3
   },
   "file_extension": ".py",
   "mimetype": "text/x-python",
   "name": "python",
   "nbconvert_exporter": "python",
   "pygments_lexer": "ipython3",
   "version": "3.7.3"
  }
 },
 "nbformat": 4,
 "nbformat_minor": 2
}
